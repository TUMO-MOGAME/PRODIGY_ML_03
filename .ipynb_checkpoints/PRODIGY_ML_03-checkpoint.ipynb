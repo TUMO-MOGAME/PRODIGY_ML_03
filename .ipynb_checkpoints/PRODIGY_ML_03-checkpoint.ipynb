{
 "cells": [
  {
   "cell_type": "markdown",
   "id": "2b6cf7f7-8d22-4ef1-a367-171ae9007aa0",
   "metadata": {},
   "source": [
    "This code snippet configures TensorFlow to limit GPU memory usage when running on a GPU. Let's break down each part of the code:\n",
    "\n",
    "TensorFlow will use at most 50% of the available GPU memory. Adjust this value based on your specific requirements"
   ]
  },
  {
   "cell_type": "code",
   "execution_count": 14,
   "id": "45b7d07c-a338-417e-ba46-c989a7bb5bcd",
   "metadata": {},
   "outputs": [],
   "source": [
    "from tensorflow.compat.v1 import ConfigProto\n",
    "from tensorflow.compat.v1 import InteractiveSession\n",
    "\n",
    "config = ConfigProto()\n",
    "config.gpu_options.per_process_gpu_memory_fraction = 0.5\n",
    "config.gpu_options.allow_growth = True\n",
    "session =InteractiveSession(config = config)"
   ]
  },
  {
   "cell_type": "code",
   "execution_count": 15,
   "id": "6c6a77e1-cc22-46f0-ab6d-2cd240d7b6ba",
   "metadata": {},
   "outputs": [],
   "source": [
    "#convolutional Neural network \n",
    "# importing the libraries \n",
    "import tensorflow as tf\n",
    "from tensorflow.keras.preprocessing.image import ImageDataGenerator"
   ]
  },
  {
   "cell_type": "code",
   "execution_count": 18,
   "id": "4df90438-fdf1-4160-9444-5a50e0ad6104",
   "metadata": {},
   "outputs": [
    {
     "data": {
      "text/plain": [
       "'2.15.0'"
      ]
     },
     "execution_count": 18,
     "metadata": {},
     "output_type": "execute_result"
    }
   ],
   "source": [
    "tf.__version__"
   ]
  },
  {
   "cell_type": "code",
   "execution_count": 22,
   "id": "5e6cb216-2349-43c1-bdab-76882e2be013",
   "metadata": {},
   "outputs": [],
   "source": [
    "#data preprocessing\n",
    "#preprocessing the training set\n",
    "\n",
    "train_datagen = ImageDataGenerator(rescale= 1./255,\n",
    "                                  shear_range= 0.2,\n",
    "                                  zoom_range= 0.2,\n",
    "                                  horizontal_flip = True)"
   ]
  },
  {
   "cell_type": "code",
   "execution_count": 39,
   "id": "dd5d15c1-24ea-4e90-aadd-2cace00933f2",
   "metadata": {},
   "outputs": [
    {
     "name": "stdout",
     "output_type": "stream",
     "text": [
      "Found 25000 images belonging to 2 classes.\n"
     ]
    }
   ],
   "source": [
    "training_set = train_datagen.flow_from_directory(\"C:\\\\Users\\\\tumom\\\\OneDrive\\\\Desktop\\\\dogs-vs-cats\\\\train\",\n",
    "                                                target_size= (64,64),\n",
    "                                                batch_size=32,\n",
    "                                                class_mode='binary')"
   ]
  },
  {
   "cell_type": "code",
   "execution_count": 40,
   "id": "cdd4dfa4-eabc-4a68-a2f7-d375fa8ae054",
   "metadata": {},
   "outputs": [],
   "source": [
    "#preprocessing the training set\n",
    "test_datagen = ImageDataGenerator(rescale= 1./255)\n"
   ]
  },
  {
   "cell_type": "code",
   "execution_count": 41,
   "id": "817ededc-5a51-493d-9768-615a64d16f72",
   "metadata": {},
   "outputs": [
    {
     "name": "stdout",
     "output_type": "stream",
     "text": [
      "Found 12500 images belonging to 1 classes.\n"
     ]
    }
   ],
   "source": [
    "test_set = test_datagen.flow_from_directory('C:\\\\Users\\\\tumom\\\\OneDrive\\\\Desktop\\\\dogs-vs-cats\\\\test1',\n",
    "                                            target_size= (64,64),\n",
    "                                            batch_size=32,\n",
    "                                            class_mode='binary')"
   ]
  },
  {
   "cell_type": "code",
   "execution_count": 43,
   "id": "df24a82e-572f-4d44-bb33-ffa3f1ad7758",
   "metadata": {},
   "outputs": [],
   "source": [
    "from tensorflow.keras.layers import Conv2D\n",
    "from tensorflow.keras.layers import Dense\n",
    "from tensorflow.keras.regularizers import l2"
   ]
  },
  {
   "cell_type": "code",
   "execution_count": 48,
   "id": "8f3bf705-39e8-496e-99c5-8c71bc5cfdfb",
   "metadata": {},
   "outputs": [
    {
     "name": "stdout",
     "output_type": "stream",
     "text": [
      "WARNING:tensorflow:From C:\\Users\\tumom\\AppData\\Roaming\\Python\\Python311\\site-packages\\keras\\src\\layers\\pooling\\max_pooling2d.py:161: The name tf.nn.max_pool is deprecated. Please use tf.nn.max_pool2d instead.\n",
      "\n"
     ]
    }
   ],
   "source": [
    "# #part 2 building the CNN \n",
    "# #initializing the CNN \n",
    "# cnn = tf.keras.models.Sequential()\n",
    "# #step 1convolution\n",
    "# cnn.add(tf.keras.layers.Conv2D(filters=32,padding=\"same\",kernel_size=3, activation= \"relu\",strides=2,input_shape=[62,64]))\n",
    "# #step 2 pooling \n",
    "# cnn.add(tf.keras.layers.MaxPool2D(pool_size=2,strides=2))\n",
    "# #step 3 flattening \n",
    "# cnn.add(tf.keras.layers.Flatten())\n",
    "# #step 4 - full connection\n",
    "# cnn.add(tf.keras.layers.Dense(units=128,activation=\"rule\"))\n",
    "# #step 5 - output layer\n",
    "# #cnn.add(tf.keras.layers.Dense(units=1,activation=\"sigmoid\"))\n",
    "# cnn.add(Dense(1,kernel_regularizer=tf.keras.regularizers.l2(0.01),activation=\"liner\"))\n",
    "\n",
    "\n",
    "import tensorflow as tf\n",
    "from tensorflow.keras.layers import Dense\n",
    "\n",
    "# Initializing the CNN\n",
    "cnn = tf.keras.models.Sequential()\n",
    "\n",
    "# Step 1: Convolution\n",
    "cnn.add(tf.keras.layers.Conv2D(filters=32, padding=\"same\", kernel_size=3, activation=\"relu\", strides=2, input_shape=(64, 64, 3)))\n",
    "\n",
    "# Step 2: Pooling\n",
    "cnn.add(tf.keras.layers.MaxPool2D(pool_size=2, strides=2))\n",
    "\n",
    "# Step 3: Flattening\n",
    "cnn.add(tf.keras.layers.Flatten())\n",
    "\n",
    "# Step 4: Full Connection\n",
    "cnn.add(tf.keras.layers.Dense(units=128, activation=\"relu\"))\n",
    "\n",
    "# Step 5: Output Layer\n",
    "#for binary classification\n",
    "cnn.add(Dense(1, kernel_regularizer=tf.keras.regularizers.l2(0.01), activation=\"linear\"))\n"
   ]
  },
  {
   "cell_type": "code",
   "execution_count": null,
   "id": "b15fcb64-b93f-4d64-921a-0d950e728b50",
   "metadata": {},
   "outputs": [],
   "source": [
    "#for multiclassification\n",
    "import tensorflow as tf\n",
    "from tensorflow.keras.layers import Dense\n",
    "\n",
    "# Assuming 4 classes in your problem\n",
    "num_classes = 4\n",
    "\n",
    "# Initializing the CNN\n",
    "cnn = tf.keras.models.Sequential()\n",
    "\n",
    "# Step 1: Convolution\n",
    "cnn.add(tf.keras.layers.Conv2D(filters=32, padding=\"same\", kernel_size=3, activation=\"relu\", strides=2, input_shape=(64, 64, 3)))\n",
    "\n",
    "# Step 2: Pooling\n",
    "cnn.add(tf.keras.layers.MaxPool2D(pool_size=2, strides=2))\n",
    "\n",
    "# Step 3: Flattening\n",
    "cnn.add(tf.keras.layers.Flatten())\n",
    "\n",
    "# Step 4: Full Connection\n",
    "cnn.add(tf.keras.layers.Dense(units=128, activation=\"relu\"))\n",
    "\n",
    "# Step 5: Output Layer\n",
    "cnn.add(Dense(num_classes, kernel_regularizer=tf.keras.regularizers.l2(0.01), activation=\"softmax\"))\n",
    "\n",
    "# Compile the model\n",
    "cnn.compile(optimizer=\"adam\", loss=\"categorical_crossentropy\", metrics=['accuracy'])"
   ]
  },
  {
   "cell_type": "code",
   "execution_count": 49,
   "id": "be3e939f-a62a-4382-b6d3-c9ac9047bbb2",
   "metadata": {},
   "outputs": [
    {
     "name": "stdout",
     "output_type": "stream",
     "text": [
      "Model: \"sequential_2\"\n",
      "_________________________________________________________________\n",
      " Layer (type)                Output Shape              Param #   \n",
      "=================================================================\n",
      " conv2d_1 (Conv2D)           (None, 32, 32, 32)        896       \n",
      "                                                                 \n",
      " max_pooling2d (MaxPooling2  (None, 16, 16, 32)        0         \n",
      " D)                                                              \n",
      "                                                                 \n",
      " flatten (Flatten)           (None, 8192)              0         \n",
      "                                                                 \n",
      " dense (Dense)               (None, 128)               1048704   \n",
      "                                                                 \n",
      " dense_1 (Dense)             (None, 1)                 129       \n",
      "                                                                 \n",
      "=================================================================\n",
      "Total params: 1049729 (4.00 MB)\n",
      "Trainable params: 1049729 (4.00 MB)\n",
      "Non-trainable params: 0 (0.00 Byte)\n",
      "_________________________________________________________________\n"
     ]
    }
   ],
   "source": [
    "cnn.summary()"
   ]
  },
  {
   "cell_type": "code",
   "execution_count": 58,
   "id": "13bd8816-787d-4a6c-874c-1371cb8490f6",
   "metadata": {},
   "outputs": [
    {
     "name": "stdout",
     "output_type": "stream",
     "text": [
      "Epoch 1/15\n",
      "782/782 [==============================] - 92s 117ms/step - loss: 0.4469 - accuracy: 0.7975 - val_loss: 1.4321 - val_accuracy: 0.5633\n",
      "Epoch 2/15\n",
      "782/782 [==============================] - 94s 121ms/step - loss: 0.4380 - accuracy: 0.8021 - val_loss: 1.6412 - val_accuracy: 0.5261\n",
      "Epoch 3/15\n",
      "782/782 [==============================] - 98s 125ms/step - loss: 0.4396 - accuracy: 0.8038 - val_loss: 1.6731 - val_accuracy: 0.5083\n",
      "Epoch 4/15\n",
      "782/782 [==============================] - 95s 121ms/step - loss: 0.4352 - accuracy: 0.8038 - val_loss: 2.3050 - val_accuracy: 0.3746\n",
      "Epoch 5/15\n",
      "782/782 [==============================] - 91s 117ms/step - loss: 0.4314 - accuracy: 0.8066 - val_loss: 1.6581 - val_accuracy: 0.5211\n",
      "Epoch 6/15\n",
      "782/782 [==============================] - 94s 121ms/step - loss: 0.4260 - accuracy: 0.8085 - val_loss: 1.7534 - val_accuracy: 0.5099\n",
      "Epoch 7/15\n",
      "782/782 [==============================] - 90s 115ms/step - loss: 0.4275 - accuracy: 0.8089 - val_loss: 1.6558 - val_accuracy: 0.5156\n",
      "Epoch 8/15\n",
      "782/782 [==============================] - 94s 120ms/step - loss: 0.4214 - accuracy: 0.8121 - val_loss: 1.5139 - val_accuracy: 0.5559\n",
      "Epoch 9/15\n",
      "782/782 [==============================] - 96s 123ms/step - loss: 0.4189 - accuracy: 0.8128 - val_loss: 1.7965 - val_accuracy: 0.5022\n",
      "Epoch 10/15\n",
      "782/782 [==============================] - 93s 119ms/step - loss: 0.4151 - accuracy: 0.8146 - val_loss: 1.5727 - val_accuracy: 0.5473\n",
      "Epoch 11/15\n",
      "782/782 [==============================] - 99s 126ms/step - loss: 0.4104 - accuracy: 0.8157 - val_loss: 1.7750 - val_accuracy: 0.5007\n",
      "Epoch 12/15\n",
      "782/782 [==============================] - 106s 136ms/step - loss: 0.4099 - accuracy: 0.8181 - val_loss: 1.7830 - val_accuracy: 0.4886\n",
      "Epoch 13/15\n",
      "782/782 [==============================] - 94s 120ms/step - loss: 0.4074 - accuracy: 0.8165 - val_loss: 1.5417 - val_accuracy: 0.5401\n",
      "Epoch 14/15\n",
      "782/782 [==============================] - 96s 122ms/step - loss: 0.4021 - accuracy: 0.8208 - val_loss: 1.5929 - val_accuracy: 0.5474\n",
      "Epoch 15/15\n",
      "782/782 [==============================] - 96s 122ms/step - loss: 0.3966 - accuracy: 0.8214 - val_loss: 2.0089 - val_accuracy: 0.4466\n"
     ]
    }
   ],
   "source": [
    "#part 3 - trsining the cnn\n",
    "#compiling the cnn model\n",
    "cnn.compile(optimizer=\"adam\", loss=\"hinge\", metrics=['accuracy'])\n",
    "#tranning the cnn on the training set and evaluating it on the test set \n",
    "# Training the CNN\n",
    "r=cnn.fit(training_set, epochs=15, validation_data=test_set)"
   ]
  },
  {
   "cell_type": "code",
   "execution_count": null,
   "id": "57aea77b-c389-461a-85cf-bc306d76c227",
   "metadata": {},
   "outputs": [],
   "source": []
  },
  {
   "cell_type": "code",
   "execution_count": 59,
   "id": "fd3dc681-f70c-4fc8-a187-98ed2d272e8d",
   "metadata": {},
   "outputs": [
    {
     "data": {
      "image/png": "[encoded data removed]",
      "text/plain": [
       "<Figure size 640x480 with 1 Axes>"
      ]
     },
     "metadata": {},
     "output_type": "display_data"
    },
    {
     "data": {
      "image/png": "[encoded data removed]",
      "text/plain": [
       "<Figure size 640x480 with 1 Axes>"
      ]
     },
     "metadata": {},
     "output_type": "display_data"
    }
   ],
   "source": [
    "# # plot the loss \n",
    "# import matplotlib.pyplot as plt \n",
    "# plt.plot(r.history['loss'],label = \"train loss\")\n",
    "# plt.plot(r.history[\"val_loss\"], label = \"val loss\")\n",
    "# plt.legend()\n",
    "# plt.show()\n",
    "# plt.savefig(\"lossVal_loss\")\n",
    "\n",
    "# #plot the occuracy \n",
    "# import matplotlib.pyplot as plt \n",
    "# plt.plot(r.history['accuracy'],label = \"train acc\")\n",
    "# plt.plot(r.history[\"val_accuracy\"], label = \"val acc\")\n",
    "# plt.legend()\n",
    "# plt.show()\n",
    "# plt.savefig(\"AccVal_acc\")\n",
    "\n",
    "\n",
    "\n",
    "# Plot the loss\n",
    "import matplotlib.pyplot as plt\n",
    "\n",
    "plt.plot(r.history['loss'], label=\"train loss\")\n",
    "plt.plot(r.history[\"val_loss\"], label=\"val loss\")\n",
    "plt.legend()\n",
    "plt.xlabel(\"Epochs\")\n",
    "plt.ylabel(\"Loss\")\n",
    "plt.title(\"Training and Validation Loss\")\n",
    "plt.savefig(\"lossVal_loss.png\")\n",
    "plt.show()\n",
    "\n",
    "# Plot the accuracy\n",
    "plt.plot(r.history['accuracy'], label=\"train acc\")\n",
    "plt.plot(r.history[\"val_accuracy\"], label=\"val acc\")\n",
    "plt.legend()\n",
    "plt.xlabel(\"Epochs\")\n",
    "plt.ylabel(\"Accuracy\")\n",
    "plt.title(\"Training and Validation Accuracy\")\n",
    "plt.savefig(\"AccVal_acc.png\")\n",
    "plt.show()\n"
   ]
  },
  {
   "cell_type": "code",
   "execution_count": 60,
   "id": "e7575859-1ce0-46d5-a324-14ff304fe895",
   "metadata": {},
   "outputs": [
    {
     "name": "stderr",
     "output_type": "stream",
     "text": [
      "C:\\Users\\tumom\\AppData\\Roaming\\Python\\Python311\\site-packages\\keras\\src\\engine\\training.py:3103: UserWarning: You are saving your model as an HDF5 file via `model.save()`. This file format is considered legacy. We recommend using instead the native Keras format, e.g. `model.save('my_model.keras')`.\n",
      "  saving_api.save_model(\n"
     ]
    }
   ],
   "source": [
    "#save it as a h5 file \n",
    "from tensorflow.keras.models import load_model\n",
    "cnn.save(\"model_rcat_dog.h5\")"
   ]
  },
  {
   "cell_type": "code",
   "execution_count": 61,
   "id": "4f2fa9b1-f26e-4dde-9b09-f2ed2d1b998f",
   "metadata": {},
   "outputs": [],
   "source": [
    "from tensorflow.keras.models import load_model\n",
    "\n",
    "#load model\n",
    "model = load_model(\"model_rcat_dog.h5\")"
   ]
  },
  {
   "cell_type": "code",
   "execution_count": 62,
   "id": "21ec2c40-4b6a-4e71-9be1-560515e09f0d",
   "metadata": {},
   "outputs": [
    {
     "name": "stdout",
     "output_type": "stream",
     "text": [
      "Model: \"sequential_2\"\n",
      "_________________________________________________________________\n",
      " Layer (type)                Output Shape              Param #   \n",
      "=================================================================\n",
      " conv2d_1 (Conv2D)           (None, 32, 32, 32)        896       \n",
      "                                                                 \n",
      " max_pooling2d (MaxPooling2  (None, 16, 16, 32)        0         \n",
      " D)                                                              \n",
      "                                                                 \n",
      " flatten (Flatten)           (None, 8192)              0         \n",
      "                                                                 \n",
      " dense (Dense)               (None, 128)               1048704   \n",
      "                                                                 \n",
      " dense_1 (Dense)             (None, 1)                 129       \n",
      "                                                                 \n",
      "=================================================================\n",
      "Total params: 1049729 (4.00 MB)\n",
      "Trainable params: 1049729 (4.00 MB)\n",
      "Non-trainable params: 0 (0.00 Byte)\n",
      "_________________________________________________________________\n"
     ]
    }
   ],
   "source": [
    "model.summary()"
   ]
  },
  {
   "cell_type": "code",
   "execution_count": 81,
   "id": "79039c20-05dd-49eb-aeb5-33c792db30cb",
   "metadata": {},
   "outputs": [
    {
     "name": "stdout",
     "output_type": "stream",
     "text": [
      "1/1 [==============================] - 0s 25ms/step\n"
     ]
    }
   ],
   "source": [
    "# Part 4 - Making a single prediction\n",
    "\n",
    "import numpy as np\n",
    "from tensorflow.keras.preprocessing import image\n",
    "test_image = image.load_img(\"C:\\\\Users\\\\tumom\\\\OneDrive\\\\Desktop\\\\dogs-vs-cats\\\\test1\\\\test1\\\\167.jpg\", target_size = (64,64))\n",
    "test_image = image.img_to_array(test_image)\n",
    "test_image=test_image/255\n",
    "test_image = np.expand_dims(test_image, axis = 0)\n",
    "result = cnn.predict(test_image)"
   ]
  },
  {
   "cell_type": "code",
   "execution_count": 82,
   "id": "e1587979-a021-448f-aba9-e693ba977875",
   "metadata": {},
   "outputs": [
    {
     "data": {
      "text/plain": [
       "array([[0.87551755]], dtype=float32)"
      ]
     },
     "execution_count": 82,
     "metadata": {},
     "output_type": "execute_result"
    }
   ],
   "source": [
    "result"
   ]
  },
  {
   "cell_type": "code",
   "execution_count": 83,
   "id": "5f3a5e36-e6ef-4899-a843-9094a3b4ef04",
   "metadata": {},
   "outputs": [
    {
     "name": "stdout",
     "output_type": "stream",
     "text": [
      "[1.]\n",
      "The image classified is dog\n"
     ]
    }
   ],
   "source": [
    "if result[0]<0:\n",
    "    result[0] = 0\n",
    "    print(result[0])\n",
    "    print(\"The image classified is cat\")\n",
    "elif result[0]>=0:\n",
    "    result[0] = 1\n",
    "    print(result[0])\n",
    "    print(\"The image classified is dog\")"
   ]
  },
  {
   "cell_type": "code",
   "execution_count": null,
   "id": "a6d34ff2-cf70-4d68-b80f-6006d891288e",
   "metadata": {},
   "outputs": [],
   "source": []
  },
  {
   "cell_type": "code",
   "execution_count": null,
   "id": "f81207f3-9b7f-45fc-9734-13a299872b6f",
   "metadata": {},
   "outputs": [],
   "source": []
  },
  {
   "cell_type": "code",
   "execution_count": null,
   "id": "7b6e5ca2-04aa-4be5-b7e3-7d478d9a636b",
   "metadata": {},
   "outputs": [],
   "source": []
  },
  {
   "cell_type": "code",
   "execution_count": null,
   "id": "6052093e-610c-4921-8088-fc6524ddff19",
   "metadata": {},
   "outputs": [],
   "source": []
  },
  {
   "cell_type": "code",
   "execution_count": null,
   "id": "96794dbd-59ee-4a19-91b2-2443eda142d9",
   "metadata": {},
   "outputs": [],
   "source": []
  }
 ],
 "metadata": {
  "kernelspec": {
   "display_name": "Python 3 (ipykernel)",
   "language": "python",
   "name": "python3"
  },
  "language_info": {
   "codemirror_mode": {
    "name": "ipython",
    "version": 3
   },
   "file_extension": ".py",
   "mimetype": "text/x-python",
   "name": "python",
   "nbconvert_exporter": "python",
   "pygments_lexer": "ipython3",
   "version": "3.11.5"
  }
 },
 "nbformat": 4,
 "nbformat_minor": 5
}
